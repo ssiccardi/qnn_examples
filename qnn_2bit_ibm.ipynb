{
 "cells": [
  {
   "cell_type": "code",
   "execution_count": 40,
   "metadata": {},
   "outputs": [
    {
     "ename": "QiskitError",
     "evalue": "'Invalid input data format for Operator'",
     "output_type": "error",
     "traceback": [
      "\u001b[0;31m---------------------------------------------------------------------------\u001b[0m",
      "\u001b[0;31mQiskitError\u001b[0m                               Traceback (most recent call last)",
      "\u001b[0;32m<ipython-input-40-8b4cc2706252>\u001b[0m in \u001b[0;36m<module>\u001b[0;34m\u001b[0m\n\u001b[1;32m     36\u001b[0m \u001b[0mcircuit\u001b[0m \u001b[0;34m=\u001b[0m \u001b[0mQuantumCircuit\u001b[0m\u001b[0;34m(\u001b[0m\u001b[0;36m3\u001b[0m\u001b[0;34m,\u001b[0m \u001b[0;36m3\u001b[0m\u001b[0;34m)\u001b[0m  \u001b[0;31m# circuito co 3 qubit e 3 bit classici\u001b[0m\u001b[0;34m\u001b[0m\u001b[0;34m\u001b[0m\u001b[0m\n\u001b[1;32m     37\u001b[0m \u001b[0;31m#circuit.h([0,1])                # porta di Hadamard sui primi 2 qubit\u001b[0m\u001b[0;34m\u001b[0m\u001b[0;34m\u001b[0m\u001b[0;34m\u001b[0m\u001b[0m\n\u001b[0;32m---> 38\u001b[0;31m \u001b[0mA\u001b[0m \u001b[0;34m=\u001b[0m \u001b[0mOperator\u001b[0m\u001b[0;34m(\u001b[0m\u001b[0mcircuit\u001b[0m\u001b[0;34m.\u001b[0m\u001b[0mh\u001b[0m\u001b[0;34m(\u001b[0m\u001b[0;36m0\u001b[0m\u001b[0;34m)\u001b[0m\u001b[0;34m)\u001b[0m\u001b[0;34m\u001b[0m\u001b[0;34m\u001b[0m\u001b[0m\n\u001b[0m\u001b[1;32m     39\u001b[0m \u001b[0mB\u001b[0m \u001b[0;34m=\u001b[0m \u001b[0mOperator\u001b[0m\u001b[0;34m(\u001b[0m\u001b[0mcircuit\u001b[0m\u001b[0;34m.\u001b[0m\u001b[0mh\u001b[0m\u001b[0;34m(\u001b[0m\u001b[0;36m1\u001b[0m\u001b[0;34m)\u001b[0m\u001b[0;34m)\u001b[0m\u001b[0;34m\u001b[0m\u001b[0;34m\u001b[0m\u001b[0m\n\u001b[1;32m     40\u001b[0m \u001b[0mC\u001b[0m \u001b[0;34m=\u001b[0m \u001b[0mA\u001b[0m\u001b[0;34m.\u001b[0m\u001b[0mtensor\u001b[0m\u001b[0;34m(\u001b[0m\u001b[0mB\u001b[0m\u001b[0;34m)\u001b[0m\u001b[0;34m\u001b[0m\u001b[0;34m\u001b[0m\u001b[0m\n",
      "\u001b[0;32m~/miniconda3/envs/ibm_quantum/lib/python3.7/site-packages/qiskit/quantum_info/operators/operator.py\u001b[0m in \u001b[0;36m__init__\u001b[0;34m(self, data, input_dims, output_dims)\u001b[0m\n\u001b[1;32m     88\u001b[0m             \u001b[0mmat\u001b[0m \u001b[0;34m=\u001b[0m \u001b[0mnp\u001b[0m\u001b[0;34m.\u001b[0m\u001b[0marray\u001b[0m\u001b[0;34m(\u001b[0m\u001b[0mdata\u001b[0m\u001b[0;34m,\u001b[0m \u001b[0mdtype\u001b[0m\u001b[0;34m=\u001b[0m\u001b[0mcomplex\u001b[0m\u001b[0;34m)\u001b[0m\u001b[0;34m\u001b[0m\u001b[0;34m\u001b[0m\u001b[0m\n\u001b[1;32m     89\u001b[0m         \u001b[0;32melse\u001b[0m\u001b[0;34m:\u001b[0m\u001b[0;34m\u001b[0m\u001b[0;34m\u001b[0m\u001b[0m\n\u001b[0;32m---> 90\u001b[0;31m             \u001b[0;32mraise\u001b[0m \u001b[0mQiskitError\u001b[0m\u001b[0;34m(\u001b[0m\u001b[0;34m\"Invalid input data format for Operator\"\u001b[0m\u001b[0;34m)\u001b[0m\u001b[0;34m\u001b[0m\u001b[0;34m\u001b[0m\u001b[0m\n\u001b[0m\u001b[1;32m     91\u001b[0m         \u001b[0;31m# Determine input and output dimensions\u001b[0m\u001b[0;34m\u001b[0m\u001b[0;34m\u001b[0m\u001b[0;34m\u001b[0m\u001b[0m\n\u001b[1;32m     92\u001b[0m         \u001b[0mdout\u001b[0m\u001b[0;34m,\u001b[0m \u001b[0mdin\u001b[0m \u001b[0;34m=\u001b[0m \u001b[0mmat\u001b[0m\u001b[0;34m.\u001b[0m\u001b[0mshape\u001b[0m\u001b[0;34m\u001b[0m\u001b[0;34m\u001b[0m\u001b[0m\n",
      "\u001b[0;31mQiskitError\u001b[0m: 'Invalid input data format for Operator'"
     ]
    }
   ],
   "source": [
    "# programma da arxiv 1811.02266 fig. 3 pag.5\n",
    "# il programma riconosce input che rappresentano un quadrato di 4 pixel con questa convenzione:\n",
    "#  |----|----|\n",
    "#  | n0 | n1 |\n",
    "#  |----|----|\n",
    "#  | n2 | n3 |\n",
    "#  |----|----|\n",
    "# dove n0,...,n3 sono i 4 bit [n0n1n2n3] corrispondenti a un valore |q1q2>. \n",
    "# L'input i e' una quaterna di valori che possono essere +1 o -1 (1 se pixel bianco, -1 se nero), e anche\n",
    "# la matrice dei pesi w, cioe' il pattern da riconoscere, e' rappresentato nello stesso modo. Di entrambi l'articolo\n",
    "# riporta come etichetta il numero decimale corrispondente.\n",
    "# In particolare questo programma usa come matrice dei pesi 7 (cioe' [0111] = -|11>-|10>-|01>+|00>) e \n",
    "# come input 11 (cioe' [1011] = -|11>-|10>+|01>-|00>).\n",
    "# quindi: pesi\n",
    "#  |----|----|\n",
    "#  | XX | XX |\n",
    "#  |----|----|\n",
    "#  | XX |    |\n",
    "#  |----|----|\n",
    "# input\n",
    "#  |----|----|\n",
    "#  | XX |    |\n",
    "#  |----|----|\n",
    "#  | XX | XX |\n",
    "#  |----|----|\n",
    "\n",
    "# import delle librerie \n",
    "import math\n",
    "import numpy as np\n",
    "from qiskit import(\n",
    "  QuantumCircuit,\n",
    "  execute,\n",
    "  Aer)\n",
    "from qiskit.quantum_info.operators import Operator\n",
    "\n",
    "circuit = QuantumCircuit(3, 3)  # circuito co 3 qubit e 3 bit classici\n",
    "#circuit.h([0,1])                # porta di Hadamard sui primi 2 qubit\n",
    "A = Operator(circuit.h(0))\n",
    "B = Operator(circuit.h(1))\n",
    "C = A.tensor(B)\n",
    "circuit.append(C,[0,1])\n",
    "circuit.rz(math.pi,1)           # gate Z sul qubit 1\n",
    "circuit.cz(0,1)                 # controlled Z gate\n",
    "circuit.rz(math.pi,0)           # gate Z sul qubit 1\n",
    "circuit.rz(math.pi,1)           # gate Z sul qubit 1\n",
    "circuit.cz(0,1)                 # controlled Z gate\n",
    "circuit.h([0,1])                # porta di Hadamard sui primi 2 qubit\n",
    "circuit.x([0,1])                # porta di Hadamard sui primi 2 qubit\n",
    "circuit.ccx(0,1,2)              # controlled not con i 2 qubit e l'ancella\n",
    "\n",
    "#circuit.measure([0,1,2],[0,1,2]) # non usare con unitary_simulator\n",
    "\n",
    "circuit.draw()                  # disegna il circuito\n",
    "\n",
    "\n"
   ]
  },
  {
   "cell_type": "code",
   "execution_count": 28,
   "metadata": {},
   "outputs": [
    {
     "name": "stdout",
     "output_type": "stream",
     "text": [
      "\n",
      "Total counts are: {'000': 1}\n",
      "[[ 0.5+0.j  0.5+0.j  0.5+0.j  0.5+0.j  0. +0.j  0. +0.j  0. +0.j  0. +0.j]\n",
      " [ 0.5+0.j -0.5+0.j  0.5+0.j -0.5+0.j  0. +0.j  0. +0.j  0. +0.j  0. +0.j]\n",
      " [-0.5+0.j -0.5+0.j  0.5+0.j  0.5+0.j  0. +0.j  0. +0.j  0. +0.j  0. +0.j]\n",
      " [ 0.5+0.j -0.5+0.j -0.5+0.j  0.5+0.j  0. +0.j  0. +0.j  0. +0.j  0. +0.j]\n",
      " [ 0. +0.j  0. +0.j  0. +0.j  0. +0.j  0.5+0.j  0.5+0.j  0.5+0.j  0.5+0.j]\n",
      " [ 0. +0.j  0. +0.j  0. +0.j  0. +0.j  0.5+0.j -0.5+0.j  0.5+0.j -0.5+0.j]\n",
      " [ 0. +0.j  0. +0.j  0. +0.j  0. +0.j -0.5+0.j -0.5+0.j  0.5+0.j  0.5+0.j]\n",
      " [ 0. +0.j  0. +0.j  0. +0.j  0. +0.j  0.5+0.j -0.5+0.j -0.5+0.j  0.5+0.j]]\n"
     ]
    }
   ],
   "source": [
    "#simulator = Aer.get_backend('qasm_simulator')\n",
    "#job = execute(circuit, simulator,shots=1000)\n",
    "#simulator = Aer.get_backend('statevector_simulator')\n",
    "#job = execute(circuit, simulator)\n",
    "backend = Aer.get_backend('unitary_simulator')  # per vedere cosa fa in fase di debug\n",
    "job = execute(circuit, backend)\n",
    "result = job.result()\n",
    "counts = result.get_counts(circuit)\n",
    "print(\"\\nTotal counts are:\",counts)\n",
    "#outputstate = result.get_statevector(circuit, decimals=3) # con statevector_simulator\n",
    "#print(outputstate)\n",
    "print(result.get_unitary(circuit, decimals=3))  # con unitary_simulator"
   ]
  },
  {
   "cell_type": "code",
   "execution_count": null,
   "metadata": {},
   "outputs": [],
   "source": []
  },
  {
   "cell_type": "code",
   "execution_count": null,
   "metadata": {},
   "outputs": [],
   "source": []
  }
 ],
 "metadata": {
  "kernelspec": {
   "display_name": "Python 3",
   "language": "python",
   "name": "python3"
  },
  "language_info": {
   "codemirror_mode": {
    "name": "ipython",
    "version": 3
   },
   "file_extension": ".py",
   "mimetype": "text/x-python",
   "name": "python",
   "nbconvert_exporter": "python",
   "pygments_lexer": "ipython3",
   "version": "3.7.4"
  }
 },
 "nbformat": 4,
 "nbformat_minor": 2
}
