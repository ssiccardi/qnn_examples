{
 "cells": [
  {
   "cell_type": "code",
   "execution_count": 27,
   "metadata": {},
   "outputs": [
    {
     "name": "stdout",
     "output_type": "stream",
     "text": [
      "[[1]\n",
      " [0]\n",
      " [0]\n",
      " [0]]\n",
      "[[ 0.5  0.5  0.5  0.5]\n",
      " [ 0.5 -0.5  0.5 -0.5]\n",
      " [ 0.5  0.5 -0.5 -0.5]\n",
      " [ 0.5 -0.5 -0.5  0.5]]\n",
      "[[ 1  0  0  0]\n",
      " [ 0 -1  0  0]\n",
      " [ 0  0  1  0]\n",
      " [ 0  0  0 -1]]\n",
      "[[ 1  0  0  0]\n",
      " [ 0 -1  0  0]\n",
      " [ 0  0  1  0]\n",
      " [ 0  0  0 -1]]\n",
      "[[ 1  0  0  0]\n",
      " [ 0  1  0  0]\n",
      " [ 0  0  1  0]\n",
      " [ 0  0  0 -1]]\n",
      "[[0 0 0 1]\n",
      " [0 0 1 0]\n",
      " [0 1 0 0]\n",
      " [1 0 0 0]]\n",
      "[[1 0 0 0 0 0 0 0]\n",
      " [0 1 0 0 0 0 0 0]\n",
      " [0 0 1 0 0 0 0 0]\n",
      " [0 0 0 1 0 0 0 0]\n",
      " [0 0 0 0 1 0 0 0]\n",
      " [0 0 0 0 0 1 0 0]\n",
      " [0 0 0 0 0 0 0 1]\n",
      " [0 0 0 0 0 0 1 0]]\n"
     ]
    }
   ],
   "source": [
    "# programma da arxiv 1811.02266 fig. 3 pag.5\n",
    "# il programma riconosce input che rappresentano un quadrato di 4 pixel con questa convenzione:\n",
    "#  |----|----|\n",
    "#  | n0 | n1 |\n",
    "#  |----|----|\n",
    "#  | n2 | n3 |\n",
    "#  |----|----|\n",
    "# dove n0,...,n3 sono i 4 bit [n0n1n2n3] corrispondenti a un valore |q1q2>. \n",
    "# L'input i e' una quaterna di valori che possono essere +1 o -1 (1 se pixel bianco, -1 se nero), e anche\n",
    "# la matrice dei pesi w, cioe' il pattern da riconoscere, e' rappresentato nello stesso modo. Di entrambi l'articolo\n",
    "# riporta come etichetta il numero decimale corrispondente.\n",
    "# In particolare questo programma usa come matrice dei pesi 7 (cioe' [0111] = -|11>-|10>-|01>+|00>) e \n",
    "# come input 11 (cioe' [1011] = -|11>-|10>+|01>-|00>).\n",
    "# quindi: pesi\n",
    "#  |----|----|\n",
    "#  | XX | XX |\n",
    "#  |----|----|\n",
    "#  | XX |    |\n",
    "#  |----|----|\n",
    "# input\n",
    "#  |----|----|\n",
    "#  | XX |    |\n",
    "#  |----|----|\n",
    "#  | XX | XX |\n",
    "#  |----|----|\n",
    "\n",
    "# import delle librerie \n",
    "import math\n",
    "import numpy as np\n",
    "\n",
    "# definizione dei qubit come vettori\n",
    "q0 = np.array([[1],[0]])\n",
    "q1 = np.array([[1],[0]])\n",
    "ancilla = np.array([[1],[0]])\n",
    "################ aggiungere l'ancella e modificare tutto di conseguenza ##############\n",
    "\n",
    "# prodotto tensoriale dei 2 qubit\n",
    "ini = np.kron(q0,q1)\n",
    "print(ini)\n",
    "# matrice di Hadamard \n",
    "H2 = 0.5 * np.array([[1,1,1,1],[1,-1,1,-1],[1,1,-1,-1],[1,-1,-1,1]])\n",
    "print(H2)\n",
    "# matrice per Z gate sul secondo qubit\n",
    "Zgate = np.array([[1,0,0,0],[0,-1,0,0],[0,0,1,0],[0,0,0,-1]])  \n",
    "print(Zgate)\n",
    "# matrice per Z gate sul primo qubit\n",
    "Zgate1 = np.array([[1,0,0,0],[0,1,0,0],[0,0,-1,0],[0,0,0,-1]])  \n",
    "print(Zgate)\n",
    "# matrice controlled Z gate\n",
    "CZgate = np.array([[1,0,0,0],[0,1,0,0],[0,0,1,0],[0,0,0,-1]])\n",
    "print(CZgate)\n",
    "# matrice X per 2 qubit\n",
    "X2 = np.array([[0,0,0,1],[0,0,1,0],[0,1,0,0],[1,0,0,0]])\n",
    "print(X2)\n",
    "Toffoli = np.array([[1,0,0,0,0,0,0,0],[0,1,0,0,0,0,0,0],[0,0,1,0,0,0,0,0],[0,0,0,1,0,0,0,0],[0,0,0,0,1,0,0,0],\n",
    "                    [0,0,0,0,0,1,0,0],[0,0,0,0,0,0,0,1],[0,0,0,0,0,0,1,0]])\n",
    "print(Toffoli)"
   ]
  },
  {
   "cell_type": "code",
   "execution_count": 28,
   "metadata": {},
   "outputs": [
    {
     "name": "stdout",
     "output_type": "stream",
     "text": [
      "[[ 0.5]\n",
      " [-0.5]\n",
      " [ 0.5]\n",
      " [-0.5]]\n",
      "[[ 0.5]\n",
      " [-0.5]\n",
      " [ 0.5]\n",
      " [ 0.5]]\n"
     ]
    }
   ],
   "source": [
    "i1 = H2.dot(ini)\n",
    "i2 = Zgate.dot(i1)\n",
    "print(i2)\n",
    "i3 = CZgate.dot(i2)\n",
    "print(i3)"
   ]
  },
  {
   "cell_type": "code",
   "execution_count": 29,
   "metadata": {},
   "outputs": [
    {
     "name": "stdout",
     "output_type": "stream",
     "text": [
      "[[ 0.5]\n",
      " [-0.5]\n",
      " [-0.5]\n",
      " [-0.5]]\n"
     ]
    }
   ],
   "source": [
    "w1 = H2.dot(ini)\n",
    "w2 = Zgate.dot(w1)\n",
    "w3 = Zgate1.dot(w2)\n",
    "w4 = CZgate.dot(w3)\n",
    "print(w4)"
   ]
  },
  {
   "cell_type": "code",
   "execution_count": 30,
   "metadata": {},
   "outputs": [
    {
     "ename": "ValueError",
     "evalue": "shapes (8,8) and (4,1) not aligned: 8 (dim 1) != 4 (dim 0)",
     "output_type": "error",
     "traceback": [
      "\u001b[0;31m---------------------------------------------------------------------------\u001b[0m",
      "\u001b[0;31mValueError\u001b[0m                                Traceback (most recent call last)",
      "\u001b[0;32m<ipython-input-30-0a4282d9b72d>\u001b[0m in \u001b[0;36m<module>\u001b[0;34m\u001b[0m\n\u001b[1;32m      4\u001b[0m \u001b[0miw7\u001b[0m \u001b[0;34m=\u001b[0m \u001b[0mH2\u001b[0m\u001b[0;34m.\u001b[0m\u001b[0mdot\u001b[0m\u001b[0;34m(\u001b[0m\u001b[0miw6\u001b[0m\u001b[0;34m)\u001b[0m\u001b[0;34m\u001b[0m\u001b[0;34m\u001b[0m\u001b[0m\n\u001b[1;32m      5\u001b[0m \u001b[0miw8\u001b[0m \u001b[0;34m=\u001b[0m \u001b[0mX2\u001b[0m\u001b[0;34m.\u001b[0m\u001b[0mdot\u001b[0m\u001b[0;34m(\u001b[0m\u001b[0miw7\u001b[0m\u001b[0;34m)\u001b[0m\u001b[0;34m\u001b[0m\u001b[0;34m\u001b[0m\u001b[0m\n\u001b[0;32m----> 6\u001b[0;31m \u001b[0miw9\u001b[0m \u001b[0;34m=\u001b[0m \u001b[0mToffoli\u001b[0m\u001b[0;34m.\u001b[0m\u001b[0mdot\u001b[0m\u001b[0;34m(\u001b[0m\u001b[0miw8\u001b[0m\u001b[0;34m)\u001b[0m\u001b[0;34m\u001b[0m\u001b[0;34m\u001b[0m\u001b[0m\n\u001b[0m",
      "\u001b[0;31mValueError\u001b[0m: shapes (8,8) and (4,1) not aligned: 8 (dim 1) != 4 (dim 0)"
     ]
    }
   ],
   "source": [
    "iw4 = Zgate.dot(i3)\n",
    "iw5 = Zgate1.dot(iw4)\n",
    "iw6 = CZgate.dot(iw5)\n",
    "iw7 = H2.dot(iw6)\n",
    "iw8 = X2.dot(iw7)\n",
    "iw9 = Toffoli.dot(iw8)"
   ]
  },
  {
   "cell_type": "code",
   "execution_count": null,
   "metadata": {},
   "outputs": [],
   "source": []
  }
 ],
 "metadata": {
  "kernelspec": {
   "display_name": "Python 3",
   "language": "python",
   "name": "python3"
  },
  "language_info": {
   "codemirror_mode": {
    "name": "ipython",
    "version": 3
   },
   "file_extension": ".py",
   "mimetype": "text/x-python",
   "name": "python",
   "nbconvert_exporter": "python",
   "pygments_lexer": "ipython3",
   "version": "3.7.4"
  }
 },
 "nbformat": 4,
 "nbformat_minor": 2
}
